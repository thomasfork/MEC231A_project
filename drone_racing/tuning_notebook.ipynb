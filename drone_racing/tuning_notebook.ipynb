{
 "metadata": {
  "language_info": {
   "codemirror_mode": {
    "name": "ipython",
    "version": 3
   },
   "file_extension": ".py",
   "mimetype": "text/x-python",
   "name": "python",
   "nbconvert_exporter": "python",
   "pygments_lexer": "ipython3",
   "version": "3.7.0-final"
  },
  "orig_nbformat": 2,
  "kernelspec": {
   "name": "python3",
   "display_name": "Python 3",
   "language": "python"
  }
 },
 "nbformat": 4,
 "nbformat_minor": 2,
 "cells": [
  {
   "cell_type": "code",
   "execution_count": 5,
   "metadata": {},
   "outputs": [
    {
     "output_type": "stream",
     "name": "stdout",
     "text": [
      "* Starting LMPC *\n",
      "LMPC Progress: (  0.23/651.42)\n",
      "* Finished LMPC (73.10 seconds)*\n",
      "n_step = 1\n",
      "* Ran at ~ 84.76Hz\n",
      "SS sample time: 0.14 +/- 0.35\n",
      "Solve time: 1.84 +/- 2.50\n",
      "Convert time: 0.25 +/- 0.00\n",
      "Update time: 9.09 +/- 2.90\n",
      "* Starting LMPC *\n",
      "LMPC Progress: (  0.02/651.42)\n",
      "* Finished LMPC (71.95 seconds)*\n",
      "* Starting LMPC *\n",
      "LMPC Progress: (  0.01/651.42)\n",
      "* Finished LMPC (68.00 seconds)*\n",
      "* Starting LMPC *\n",
      "LMPC Progress: (  0.01/651.42)\n",
      "* Finished LMPC (67.75 seconds)*\n",
      "* Starting LMPC *\n",
      "\n",
      "* Finished LMPC (65.25 seconds)*\n",
      "* Starting LMPC *\n",
      "LMPC Progress: (  0.02/651.42)\n",
      "* Finished LMPC (63.70 seconds)*\n"
     ]
    }
   ],
   "source": [
    "import main\n",
    "main.main(False,5, 0.01)"
   ]
  },
  {
   "cell_type": "code",
   "execution_count": 6,
   "metadata": {},
   "outputs": [
    {
     "output_type": "stream",
     "name": "stdout",
     "text": [
      "* Starting LMPC *\n",
      "LMPC Progress: (  0.25/651.42)\n",
      "* Finished LMPC (72.65 seconds)*\n",
      "n_step = 1\n",
      "* Ran at ~ 76.32Hz\n",
      "SS sample time: 0.13 +/- 0.34\n",
      "Solve time: 2.05 +/- 2.98\n",
      "Convert time: 0.28 +/- 0.00\n",
      "Update time: 10.17 +/- 0.93\n",
      "* Starting LMPC *\n",
      "LMPC Progress: (  0.02/651.42)\n",
      "* Finished LMPC (70.10 seconds)*\n",
      "* Starting LMPC *\n",
      "LMPC Progress: (  0.01/651.42)\n",
      "* Finished LMPC (67.35 seconds)*\n",
      "* Starting LMPC *\n",
      "LMPC Progress: (  0.00/651.42)\n",
      "* Finished LMPC (68.00 seconds)*\n",
      "* Starting LMPC *\n",
      "LMPC Progress: (  0.01/651.42)\n",
      "* Finished LMPC (65.45 seconds)*\n",
      "* Starting LMPC *\n",
      "LMPC Progress: (  0.01/651.42)\n",
      "* Finished LMPC (66.50 seconds)*\n"
     ]
    }
   ],
   "source": [
    "main.main(False,5, 0.1)"
   ]
  }
 ]
}